{
 "cells": [
  {
   "cell_type": "code",
   "execution_count": 1,
   "id": "22182978-09dc-491f-89c1-57c19714921f",
   "metadata": {},
   "outputs": [],
   "source": [
    "import numpy as np\n",
    "import matplotlib.pyplot as plt\n",
    "import matplotlib.animation as animation\n",
    "from celluloid import Camera\n",
    "# animate, not save\n",
    "from IPython.display import clear_output"
   ]
  },
  {
   "cell_type": "code",
   "execution_count": 2,
   "id": "009c46bc-0e39-4635-acd9-896af2ab0bcf",
   "metadata": {},
   "outputs": [
    {
     "data": {
      "image/png": "[encoded data removed]",
      "text/plain": [
       "<Figure size 432x288 with 2 Axes>"
      ]
     },
     "metadata": {
      "needs_background": "light"
     },
     "output_type": "display_data"
    },
    {
     "name": "stdout",
     "output_type": "stream",
     "text": [
      "1000 0\n"
     ]
    }
   ],
   "source": [
    "# Finite Volume Method\n",
    "\n",
    "timestep = 1000\n",
    "\n",
    "# h : waterdepth\n",
    "# uh : x-momentum\n",
    "# z : bed elevation.  In this case we set it to z = 0\n",
    "# w : absolute water level, with w = z + h\n",
    "# x : the x-axis\n",
    "#     \n",
    "# U = np.array(h, uh)\n",
    "# E = np.array(uh, u**2 * h + g*h**2/2)\n",
    "\n",
    "# rectangular meshing on 1D is just dividing the interval.\n",
    "# set to 2000 mesh.\n",
    "x = np.linspace(0,2,2000)\n",
    "dx = x[1]-x[0]\n",
    "\n",
    "# the constants \n",
    "g = 9.8             # the gravity constant\n",
    "eta = 0.018\n",
    "\n",
    "# Initial condition\n",
    "# dam break situation\n",
    "h_up, h_down = np.ones(1000), np.ones(1000)*0.1\n",
    "h = np.append(h_up, h_down)\n",
    "uh = h*0\n",
    "#u = uh*h/(h**2 +10e-6)    # u = uh / h\n",
    "u = uh/h\n",
    "\n",
    "#E1 = uh\n",
    "#E2 = u**2*h + g*h**2/2\n",
    "\n",
    "# Sfx = u*eta**2 * u / h**(4/3)\n",
    "#S1 = h*0\n",
    "# S2 = -g*h*(z_x + Sfx)\n",
    "#S2 = h*0\n",
    "\n",
    "# Setting up the quantity vector U\n",
    "# the x-momentum vector E and source vector S\n",
    "U = np.vstack((h,uh))\n",
    "#E = np.vstack((E1,E2))\n",
    "#S = np.vstack((S2,S2))\n",
    "\n",
    "\n",
    "# HLL implementation\n",
    "# pre setup for finite volume method 1-dimension\n",
    "#Umid = (U[:,1:]+U[:,:-1])/2      # the 'centroid' of the segment\n",
    "Ai = x[1:] - x[:-1]              # Ai area of the mesh. \n",
    "                                 # In case of 1D, it should be the length of intervals.\n",
    "#E_L, E_R = E[:,1:], E[:,:-1]    # \n",
    "#u_L, u_R = u[1:], u[:-1]         #\n",
    "#h_L, h_R = h[1:], h[:-1]         #\n",
    "# We will set up time difference later\n",
    "counter = 0                      # sanity check\n",
    "fig, axes = plt.subplots(2)\n",
    "#camera = Camera(fig)\n",
    "\n",
    "time = 0.0\n",
    "finaltime = 0.1\n",
    "\n",
    "while (time <= finaltime):\n",
    "    # clear_output(wait=True)\n",
    "    #print(step)\n",
    "    \n",
    "    # Calculate Flux\n",
    "    \n",
    "    h = U[0,:]\n",
    "    uh = U[1,:]\n",
    "    u = uh*h/(h**2 + 1.0e-6)\n",
    "    \n",
    "    \n",
    "\n",
    "    \n",
    "    E1 = uh\n",
    "    E2 = u**2*h + g*h**2/2\n",
    "\n",
    "    # Sfx = u*eta**2 * u / h**(4/3)\n",
    "    S1 = h*0\n",
    "    # S2 = -g*h*(z_x + Sfx)\n",
    "    S2 = h*0\n",
    "\n",
    "    # Setting up the quantity vector U\n",
    "    # the x-momentum vector E and source vector S\n",
    "    #U = np.vstack((h,uh))\n",
    "    E = np.vstack((E1,E2))\n",
    "    S = np.vstack((S2,S2))\n",
    "    \n",
    "    U_L, U_R = U[:,1:], U[:,:-1]\n",
    "    E_L, E_R = E[:,1:], E[:,:-1]\n",
    "    u_L, u_R = u[1:], u[:-1]         #\n",
    "    h_L, h_R = h[1:], h[:-1]         #    \n",
    "    \n",
    "    \n",
    "    a_plus  = np.maximum(u_L + np.sqrt(g*h_L), u_R + np.sqrt(g*h_R), 0*u_L)\n",
    "    a_minus = np.minimum(u_L - np.sqrt(g*h_L), u_R - np.sqrt(g*h_R), 0*u_L)\n",
    "     \n",
    "    dt  = dx/max(np.max(a_plus),np.max(-a_minus))\n",
    "    \n",
    "    time += dt\n",
    "\n",
    "    \n",
    "    np.seterr(divide='ignore')\n",
    "    E_HLL = np.where(np.abs(a_plus - a_minus) > 1.0e-6,\\\n",
    "                     (a_plus * E_L - a_minus * E_R)/(a_plus - a_minus) - a_plus*a_minus/(a_plus- a_minus)*(U_L - U_R), 0.0)\n",
    "    np.seterr(divide='warn')\n",
    "    E_HLL = (a_plus * E_L - a_minus * E_R)/(a_plus - a_minus) \\\n",
    "    - a_plus*a_minus/(a_plus- a_minus)*(U_L - U_R)\n",
    "    \n",
    "    \n",
    "    \n",
    "    E_L, E_R = E_HLL[:,1:], E_HLL[:,:-1]    # \n",
    "    \n",
    "    U[:,1:-1] -= dt/dx*(E_R - E_L) # + dt*S\n",
    "    \n",
    "    #  E = ((a_plus * E_L - a_minus * E_R)*(a_plus + a_minus))/(a_plus**2 - a_minus**2+10e-4)\n",
    "   \n",
    "    \n",
    "    # Updating presetup\n",
    "    #uh = E[0,:],\n",
    "    #U = (Umid[:,1:] + Umid[:,:-1])/2     # updating U = [h,uh]\n",
    "    \n",
    "    \n",
    "    #U = np.append(U,np.array([[0,0],[0,0]]),1)\n",
    "    #E = np.append(E,np.array([[0],[0]]),1)\n",
    "    \n",
    "    #Umid = (U[:,1:]+U[:,:-1])/2      # the 'centroid' of the segment\n",
    "    #Ai = x[1:] - x[:-1]              # Ai area of the mesh. \n",
    "                                     # In case of 1D, it should be the length of intervals.\n",
    " \n",
    "    \n",
    "    #axes[0].plot(x,U[0],color='blue')\n",
    "    #axes[1].plot(x,U[1],color='blue')\n",
    "    #  plt.show()\n",
    "    \n",
    "    ## recording\n",
    "    # if step%10 == 0:\n",
    "    #     camera.snap()\n",
    "    # counter +=1\n",
    "    \n",
    "    \n",
    "axes[0].plot(x,U[0],color='blue')\n",
    "axes[1].plot(x,U[1],color='blue')\n",
    "plt.show()\n",
    "\n",
    "#animation = camera.animate()\n",
    "# animation = camera.animate(interval = 200, repeat = True,\n",
    "#                            repeat_delay = 500)\n",
    "#animation.save('1d-dam.gif', writer = 'imagemagick')\n",
    "#animation.save('1d-dam.mp4')\n",
    "print(timestep,counter)"
   ]
  },
  {
   "cell_type": "markdown",
   "id": "1dba9c87-865d-432c-bae4-6e71d9dc00c6",
   "metadata": {},
   "source": [
    "![1d](1d-dam.gif)"
   ]
  },
  {
   "cell_type": "code",
   "execution_count": 3,
   "id": "10e145ef-a7f5-44ce-b0cc-208b7e95e329",
   "metadata": {},
   "outputs": [
    {
     "data": {
      "text/plain": [
       "(2, 2000)"
      ]
     },
     "execution_count": 3,
     "metadata": {},
     "output_type": "execute_result"
    }
   ],
   "source": [
    "U.shape"
   ]
  },
  {
   "cell_type": "code",
   "execution_count": 4,
   "id": "90606aaf-ced8-43da-9dcb-fcf32aa0b949",
   "metadata": {},
   "outputs": [
    {
     "data": {
      "text/plain": [
       "(2, 1998)"
      ]
     },
     "execution_count": 4,
     "metadata": {},
     "output_type": "execute_result"
    }
   ],
   "source": [
    "E_L.shape"
   ]
  },
  {
   "cell_type": "code",
   "execution_count": 5,
   "id": "f77932fa-0015-43ba-b462-d811f1bb103c",
   "metadata": {},
   "outputs": [
    {
     "data": {
      "text/plain": [
       "(2, 1998)"
      ]
     },
     "execution_count": 5,
     "metadata": {},
     "output_type": "execute_result"
    }
   ],
   "source": [
    "E_R.shape"
   ]
  },
  {
   "cell_type": "code",
   "execution_count": 6,
   "id": "3d1760c6-1415-4ccb-82bf-75e70439b6ca",
   "metadata": {},
   "outputs": [],
   "source": [
    "E_L, E_R = E[:,1:], E[:,:-1]"
   ]
  },
  {
   "cell_type": "code",
   "execution_count": 7,
   "id": "1dc79649-4eb3-43c8-8b51-3d35d6f8d102",
   "metadata": {},
   "outputs": [
    {
     "data": {
      "text/plain": [
       "(2, 1999)"
      ]
     },
     "execution_count": 7,
     "metadata": {},
     "output_type": "execute_result"
    }
   ],
   "source": [
    "E_L.shape"
   ]
  },
  {
   "cell_type": "code",
   "execution_count": 8,
   "id": "99b43b61-2912-475d-a4e8-140ba074900f",
   "metadata": {},
   "outputs": [
    {
     "data": {
      "text/plain": [
       "(2, 1999)"
      ]
     },
     "execution_count": 8,
     "metadata": {},
     "output_type": "execute_result"
    }
   ],
   "source": [
    "E_R.shape"
   ]
  },
  {
   "cell_type": "code",
   "execution_count": null,
   "id": "e1996e49-01c7-46a3-8358-64da9a2aa66f",
   "metadata": {},
   "outputs": [],
   "source": []
  }
 ],
 "metadata": {
  "kernelspec": {
   "display_name": "swe",
   "language": "python",
   "name": "python3"
  },
  "language_info": {
   "codemirror_mode": {
    "name": "ipython",
    "version": 3
   },
   "file_extension": ".py",
   "mimetype": "text/x-python",
   "name": "python",
   "nbconvert_exporter": "python",
   "pygments_lexer": "ipython3",
   "version": "3.9.12"
  },
  "vscode": {
   "interpreter": {
    "hash": "8928ffca74761a26d1b0f872a69484c3d664b26d49e68f223dcdbd855605976e"
   }
  }
 },
 "nbformat": 4,
 "nbformat_minor": 5
}
