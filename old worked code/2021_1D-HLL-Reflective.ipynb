{
 "cells": [
  {
   "cell_type": "code",
   "execution_count": 1,
   "id": "78b214c6-c933-4e00-b7f3-772f1b5db1b5",
   "metadata": {
    "slideshow": {
     "slide_type": "slide"
    },
    "tags": []
   },
   "outputs": [],
   "source": [
    "import numpy as np\n",
    "import matplotlib.pyplot as plt\n",
    "from celluloid import Camera\n",
    "from IPython.display import HTML\n",
    "from sympy import *"
   ]
  },
  {
   "cell_type": "code",
   "execution_count": 2,
   "id": "34e0c766-22c7-4133-8c8c-0e869cd96fbd",
   "metadata": {},
   "outputs": [],
   "source": [
    "def dambreak_initial(domain):\n",
    "    cells = len(domain)\n",
    "    h_up, h_down = np.ones(cells//2), np.ones(cells//2)*0\n",
    "    h = np.append(h_up, h_down)\n",
    "    uh = h*0\n",
    "    U = np.vstack((h,uh))\n",
    "    return(U)"
   ]
  },
  {
   "cell_type": "code",
   "execution_count": 3,
   "id": "a9a835f7-fb7c-4123-a32c-cd03bc22d94f",
   "metadata": {},
   "outputs": [],
   "source": [
    "def initial_profile_1d_analytic(x,h_str,u_str):\n",
    "    x_, t_ = sp.symbols(\"x t\")\n",
    "    expr_h  = sp.sympify(h_str)\n",
    "    expr_u  = sp.sympify(u_str)\n",
    "    expr_uh = expr_h*expr_u\n",
    "    h  = sp.lambdify([x_,t_], expr_h,  \"numpy\")\n",
    "    u  = sp.lambdify([x_,t_], expr_u,  \"numpy\")\n",
    "    uh = sp.lambdify([x_,t_], expr_uh, \"numpy\")    \n",
    "    U = [u(x,0),uh(x,0)]\n",
    "    return U"
   ]
  },
  {
   "cell_type": "code",
   "execution_count": 4,
   "id": "660a4369-71bf-4d4f-a329-2c2503f4ba2b",
   "metadata": {},
   "outputs": [],
   "source": [
    "def S_forced_solution_1d(x,t,h_str,u_str):    \n",
    "    '''input: expr of function h and u \n",
    "       output: RHS of the forced solution\n",
    "    '''\n",
    "    t = 0\n",
    "    x_, t_ = sp.symbols(\"x t\")\n",
    "    g = 9.8\n",
    "\n",
    "    expr_h = sp.sympify(h_str)\n",
    "    expr_u = sp.sympify(u_str)\n",
    "    expr_uh = expr_h*expr_u\n",
    "\n",
    "    h_t  = sp.diff(expr_h,t_)\n",
    "    uh_t = sp.diff(expr_uh,t_)\n",
    "    u_t  = sp.diff(expr_u,t_)\n",
    "\n",
    "    E_1  = sp.diff(expr_uh, x_)\n",
    "    E_2  = sp.diff(expr_u**2*expr_h + g*expr_h**2/2, x_)\n",
    "\n",
    "    S_forced_1 = sp.lambdify([x_,t_], h_t + E_1, \"numpy\")\n",
    "    S_forced_2 = sp.lambdify([x_,t_], u_t + E_2, \"numpy\")\n",
    "    S_forced = [S_forced_1(domain,t), S_forced_2(domain,t)]\n",
    "    return S_forced  "
   ]
  },
  {
   "cell_type": "code",
   "execution_count": 5,
   "id": "3d9d79d3-11aa-4de1-bbf2-71d778f3de09",
   "metadata": {},
   "outputs": [],
   "source": [
    "def SWWE_solver_1d(x, \n",
    "                   U, \n",
    "                   S=[0,0], \n",
    "                   forced_solution = 0,\n",
    "                   ghost=2, \n",
    "                   g=9.8, \n",
    "                   finaltime = 0.15, \n",
    "                   boundary = 'none', \n",
    "                   reflective = True,\n",
    "                   forced = False,\n",
    "                   play=False):\n",
    "    '''\n",
    "    The domain would be a rectangle boundary\n",
    "    U is the fluxes on x-axes\n",
    "    forced_solution = h_str, u_str\n",
    "    '''\n",
    "    \n",
    "    time = 0.0\n",
    "    count = 0\n",
    "    dx = x[1] - x[0]\n",
    "\n",
    "    if forced == True:\n",
    "        x_, t_ = symbols(\"x t\")\n",
    "        h_str,u_str = forced_solution\n",
    "        U_record = np.zeros(len(x))\n",
    "        \n",
    "        expr_h = sympify(h_str)\n",
    "        expr_u = sympify(u_str)\n",
    "        expr_uh = expr_h*expr_u\n",
    "        h_forced = lambdify([x_,t_],expr_h,\"numpy\")\n",
    "        uh_forced = lambdify([x_,t_],expr_uh,\"numpy\")\n",
    "        \n",
    "        U_forced = initial_profile_1d(domain_1d,h_str,u_str)\n",
    "        S = S_forced_solution_1d(domain,h_str,u_str)\n",
    "        \n",
    "    fig, axes = plt.subplots()\n",
    "    axes.plot(x,U[0],'r')\n",
    "    \n",
    "    if play == True:\n",
    "        camera = Camera(fig)\n",
    "    \n",
    "    while (time < finaltime):\n",
    "        count += 1 \n",
    "        h, uh = U[0,:], U[1,:]\n",
    "        u = np.divide(uh,h,out=np.zeros_like(uh),where = h != 0)\n",
    "\n",
    "        E1 = uh\n",
    "        E2 = u**2*h + (1/2)*g*h**2\n",
    "        E = np.vstack((E1,E2))\n",
    "\n",
    "        U_R, U_L = U[:,1:], U[:,:-1]\n",
    "        E_R, E_L = E[:,1:], E[:,:-1]\n",
    "        u_R, u_L = u[1:], u[:-1]         #\n",
    "        h_R, h_L = h[1:], h[:-1]         # \n",
    "\n",
    "        a_plus  = np.maximum(np.maximum(u_L + np.sqrt(g*h_L), u_R + np.sqrt(g*h_R)), 0.0*u_L)\n",
    "        a_minus = np.minimum(np.minimum(u_L - np.sqrt(g*h_L), u_R - np.sqrt(g*h_R)), 0.0*u_L)\n",
    "\n",
    "        dt  = (dx)/max(np.max(a_plus),np.max(-a_minus))\n",
    "        time += dt\n",
    "\n",
    "        np.seterr(divide='warn')\n",
    "        E_HLL = np.divide((a_plus * E_L - a_minus * E_R)+ a_plus*a_minus*(U_R - U_L),\n",
    "                          (a_plus- a_minus),\n",
    "                          out=np.zeros_like((a_plus * E_L - a_minus * E_R)+ a_plus*a_minus*(U_R - U_L)),\n",
    "                          where = a_plus - a_minus != 0)\n",
    "\n",
    "        E_R, E_L = E_HLL[:,1:], E_HLL[:,:-1]\n",
    "        \n",
    "        if forced==True:\n",
    "            U[:,1:-1] -= dt/dx*(E_R - E_L) + dt*S[:,1:-1]\n",
    "        else:\n",
    "            U[:,1:-1] -= dt/dx*(E_R - E_L)  \n",
    "        \n",
    "        if reflective == True:\n",
    "            U[1,-2] = -U[1,-2]   \n",
    "            U[1,1] = -U[1,1]\n",
    "        \n",
    "        axes.plot(x[3:-3],U[0,3:-3],'b')\n",
    "        \n",
    "        if forced == True:\n",
    "            U_record = np.vstack((U_record,U[1,2:-2]))\n",
    "                    \n",
    "        if play == True:\n",
    "            camera.snap()\n",
    "        axes.plot(x[3:-3],U[1,3:-3],'b')\n",
    "    plt.close('all')\n",
    "    \n",
    "    plt.plot(x[3:-3],u[3:-3])\n",
    "    plt.show()\n",
    "    print(\"It's done.  Time step=\",count)\n",
    "    \n",
    "    if play == True:\n",
    "        animation = camera.animate(blit=False, interval=10)\n",
    "        play = HTML(animation.to_html5_video())\n",
    "    \n",
    "    if forced == True:\n",
    "        return (U, E, axes, U_record, count)\n",
    "    else:\n",
    "        return (U, E, fig, axes, play) "
   ]
  },
  {
   "cell_type": "code",
   "execution_count": 6,
   "id": "82021770-a326-461d-93cd-759342dd146d",
   "metadata": {},
   "outputs": [
    {
     "ename": "NameError",
     "evalue": "name 'profile_1d' is not defined",
     "output_type": "error",
     "traceback": [
      "\u001b[0;31m---------------------------------------------------------------------------\u001b[0m",
      "\u001b[0;31mNameError\u001b[0m                                 Traceback (most recent call last)",
      "\u001b[1;32m/Users/rud/Documents/101/101 Math/101 Code/numerical-solver/old worked code/2021_1D-HLL-Reflective.ipynb Cell 6\u001b[0m in \u001b[0;36m<cell line: 2>\u001b[0;34m()\u001b[0m\n\u001b[1;32m      <a href='vscode-notebook-cell:/Users/rud/Documents/101/101%20Math/101%20Code/numerical-solver/old%20worked%20code/2021_1D-HLL-Reflective.ipynb#W5sZmlsZQ%3D%3D?line=0'>1</a>\u001b[0m x \u001b[39m=\u001b[39m np\u001b[39m.\u001b[39mlinspace(\u001b[39m-\u001b[39m\u001b[39m2\u001b[39m, \u001b[39m2\u001b[39m, \u001b[39m400\u001b[39m)\n\u001b[0;32m----> <a href='vscode-notebook-cell:/Users/rud/Documents/101/101%20Math/101%20Code/numerical-solver/old%20worked%20code/2021_1D-HLL-Reflective.ipynb#W5sZmlsZQ%3D%3D?line=1'>2</a>\u001b[0m U \u001b[39m=\u001b[39m profile_1d(domain_1d)\n\u001b[1;32m      <a href='vscode-notebook-cell:/Users/rud/Documents/101/101%20Math/101%20Code/numerical-solver/old%20worked%20code/2021_1D-HLL-Reflective.ipynb#W5sZmlsZQ%3D%3D?line=2'>3</a>\u001b[0m U, E, play, x, u \u001b[39m=\u001b[39m SWWE_solver_1d(domain_1d,U, finaltime\u001b[39m=\u001b[39m\u001b[39m0.2\u001b[39m)\n",
      "\u001b[0;31mNameError\u001b[0m: name 'profile_1d' is not defined"
     ]
    }
   ],
   "source": [
    "x = np.linspace(-2, 2, 400)\n",
    "U = profile_1d(domain_1d)\n",
    "U, E, play, x, u = SWWE_solver_1d(domain_1d,U, finaltime=0.2)"
   ]
  },
  {
   "cell_type": "code",
   "execution_count": null,
   "id": "e06f90f6-0ce3-4074-8312-b2ce07381572",
   "metadata": {},
   "outputs": [],
   "source": [
    "plt.plot(x[3:-3],u[3:-3])"
   ]
  },
  {
   "cell_type": "code",
   "execution_count": null,
   "id": "df7d959e-839f-46bd-9d52-5ce23b59abca",
   "metadata": {},
   "outputs": [],
   "source": []
  }
 ],
 "metadata": {
  "kernelspec": {
   "display_name": "swe",
   "language": "python",
   "name": "python3"
  },
  "language_info": {
   "codemirror_mode": {
    "name": "ipython",
    "version": 3
   },
   "file_extension": ".py",
   "mimetype": "text/x-python",
   "name": "python",
   "nbconvert_exporter": "python",
   "pygments_lexer": "ipython3",
   "version": "3.9.12"
  },
  "toc-showcode": false,
  "toc-showmarkdowntxt": false,
  "vscode": {
   "interpreter": {
    "hash": "8928ffca74761a26d1b0f872a69484c3d664b26d49e68f223dcdbd855605976e"
   }
  }
 },
 "nbformat": 4,
 "nbformat_minor": 5
}
